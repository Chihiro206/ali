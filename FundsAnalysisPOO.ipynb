{
 "cells": [
  {
   "cell_type": "code",
   "execution_count": 7,
   "metadata": {},
   "outputs": [],
   "source": [
    "import pandas as pd\n",
    "import numpy as np\n",
    "import warnings"
   ]
  },
  {
   "cell_type": "markdown",
   "metadata": {},
   "source": [
    "# Framework d'Analyse de Portefeuille"
   ]
  },
  {
   "cell_type": "markdown",
   "metadata": {},
   "source": [
    "## Import & Traitement des Données"
   ]
  },
  {
   "cell_type": "markdown",
   "metadata": {},
   "source": [
    "### Fonds & Valeurs Liquidatives"
   ]
  },
  {
   "cell_type": "code",
   "execution_count": 8,
   "metadata": {},
   "outputs": [],
   "source": [
    "class FundData:\n",
    "    def __init__(self, isin: str, filename: str, file_format: str, date_idx : int, value_idx : int, first_date : str):\n",
    "        self.isin = isin\n",
    "        self.filename = filename\n",
    "        self.file_format = file_format\n",
    "        self.date_idx = date_idx\n",
    "        self.value_idx = value_idx\n",
    "        self.first_date = first_date\n",
    "        self.df = self.load_data()\n",
    "    \n",
    "    def load_data(self):\n",
    "        data = self.import_data()\n",
    "        data_filtered = self.filter_columns(data)\n",
    "        final_data = self.clean_data(data_filtered)\n",
    "        return final_data\n",
    "\n",
    "    def import_data(self):\n",
    "        dict_format = {\"xlsx\":\"excel\",\"csv\":\"csv\"}\n",
    "        if self.file_format in [\"xlsx\",\"csv\"]:\n",
    "            data = getattr(pd,f\"read_{dict_format[self.file_format]}\")(f\"funds/{self.filename}.{self.file_format}\")\n",
    "            return data\n",
    "        else:\n",
    "            raise ValueError(\"Unsupported file type. Use 'xlsx' or 'csv'.\")\n",
    "    \n",
    "    def filter_columns(self, data):\n",
    "        data = data[[data.columns[self.date_idx], data.columns[self.value_idx]]] # on garde les colonnes qui nous interessent, ici ce sera les dates et VL.\n",
    "        data.columns = [\"Date\", self.isin] # on renomme les colonnes (ISIN du fonds en haut de la colonne des VL)\n",
    "        return data\n",
    "    \n",
    "    def clean_data(self, data_filtered):\n",
    "        while data_filtered.iloc[0,0] != self.first_date: # tant que la première cellule du dataframe ne correspond pas à la première date de la série\n",
    "            data_filtered = data_filtered.iloc[1:] # on supprime la première ligne\n",
    "        data_filtered = data_filtered.dropna(axis=\"index\") # supprime les lignes vides\n",
    "        data_filtered.Date = pd.to_datetime(data_filtered.Date, infer_datetime_format=True) # format datetime pour les dates\n",
    "        data_filtered[self.isin] = data_filtered[self.isin].replace(\",\",\".\",regex=True).astype(float) # format float pour les VL\n",
    "        return data_filtered"
   ]
  },
  {
   "cell_type": "markdown",
   "metadata": {},
   "source": [
    "#### Fonds 1 : JPM America Equity C (acc)\n",
    "- ISIN : LU0129459060\n",
    "- Société de gestion : JPM AM\n",
    "- Actifs : Actions\n",
    "- Market Cap : Large cap\n",
    "- Géographie : US\n",
    "- Devise : US$ \n",
    "- Données : 30/08/2019 au 30/08/2024 (daily)\n",
    "- Format : excel"
   ]
  },
  {
   "cell_type": "code",
   "execution_count": 9,
   "metadata": {},
   "outputs": [],
   "source": [
    "jpm_vl = FundData(\n",
    "    isin=\"LU0129459060\",\n",
    "    filename= \"JPMorgan Funds - America Equity Fund\",\n",
    "    file_format= \"xlsx\",\n",
    "    date_idx= 0,\n",
    "    value_idx=1,\n",
    "    first_date= \"30.08.2019\",\n",
    "            )"
   ]
  },
  {
   "cell_type": "markdown",
   "metadata": {},
   "source": [
    "#### Fonds 2 : Schroder International Selection Fund Global Sustainable Growth C Accumulation USD\n",
    "- ISIN : LU0557290854\n",
    "- Société de gestion : Schroder\n",
    "- Actifs : Actions\n",
    "- Market Cap : Large & Mid cap\n",
    "- Géographie : Monde\n",
    "- Devise : US$ \n",
    "- Données : 23/11/2010 au 09/10/2024 (daily)\n",
    "- Format : csv"
   ]
  },
  {
   "cell_type": "code",
   "execution_count": 15,
   "metadata": {},
   "outputs": [],
   "source": [
    "schroder_vl = FundData(\n",
    "    isin=\"LU0557290854\",\n",
    "    filename= \"Schroder International Selection Fund Global Sustainable Growth C Accumulation USD\",\n",
    "    file_format= \"csv\",\n",
    "    date_idx= 4,\n",
    "    value_idx= 5,\n",
    "    first_date= \"09.10.2024\",\n",
    "            )\n",
    "\n",
    "warnings.filterwarnings('ignore')"
   ]
  },
  {
   "cell_type": "markdown",
   "metadata": {},
   "source": [
    "#### Fonds 3 : AQR Large Cap Multi-Style Fund\n",
    "- ISIN : US00203H4956\n",
    "- Société de gestion : AQR Funds\n",
    "- Actif : Actions\n",
    "- Market Cap : Large cap\n",
    "- Géographie : US\n",
    "- Devise : US$ \n",
    "- Données : 26/03/2013 au 30/09/2024 (daily)\n",
    "- Format : csv\n",
    "\n",
    "Remarque : \n",
    "Pour ce fonds, différentes parts sont données par le prof, chaque part présente des caractéristiques différentes: \n",
    "- La part I : pour les gros investisseurs institutionnels. Minimum d'investissement élevé. Pour ce fonds et cette part, le minimum d'investissement est à 5 millions $.\n",
    "- La part N : investisseurs institutionnels et privés. Pour ce fonds et cette part, le minimum d'investissement est à 2500$.\n",
    "- La part R6 : pour les plans de retraites. Pour ce fonds et cette part, le minimum d'investissement est à 50 millions $.\n",
    "- Les fonds du dessus porte la part C (lower investment minimums and carry a level-load structure) qui se rapproche de la classe N. Pour que nos comparaison soient pertinentes, nous partirons donc sur l'analyse de la classe N du fonds."
   ]
  },
  {
   "cell_type": "code",
   "execution_count": 11,
   "metadata": {},
   "outputs": [],
   "source": [
    "aqr_vl = FundData(\n",
    "    isin=\"US00203H4956\",\n",
    "    filename= \"AQR Large Cap Multi-Style Fund Daily Price History\",\n",
    "    file_format= \"csv\",\n",
    "    date_idx= 2,\n",
    "    value_idx= 6,\n",
    "    first_date= \"26/03/2013 00:00\",\n",
    "            )"
   ]
  },
  {
   "cell_type": "code",
   "execution_count": 12,
   "metadata": {},
   "outputs": [
    {
     "data": {
      "text/html": [
       "<div>\n",
       "<style scoped>\n",
       "    .dataframe tbody tr th:only-of-type {\n",
       "        vertical-align: middle;\n",
       "    }\n",
       "\n",
       "    .dataframe tbody tr th {\n",
       "        vertical-align: top;\n",
       "    }\n",
       "\n",
       "    .dataframe thead th {\n",
       "        text-align: right;\n",
       "    }\n",
       "</style>\n",
       "<table border=\"1\" class=\"dataframe\">\n",
       "  <thead>\n",
       "    <tr style=\"text-align: right;\">\n",
       "      <th></th>\n",
       "      <th>Date</th>\n",
       "      <th>LU0129459060</th>\n",
       "      <th>LU0557290854</th>\n",
       "      <th>US00203H4956</th>\n",
       "    </tr>\n",
       "  </thead>\n",
       "  <tbody>\n",
       "    <tr>\n",
       "      <th>0</th>\n",
       "      <td>2019-08-30</td>\n",
       "      <td>35.05</td>\n",
       "      <td>218.0506</td>\n",
       "      <td>16.42</td>\n",
       "    </tr>\n",
       "    <tr>\n",
       "      <th>1</th>\n",
       "      <td>2019-09-04</td>\n",
       "      <td>34.97</td>\n",
       "      <td>214.5538</td>\n",
       "      <td>16.46</td>\n",
       "    </tr>\n",
       "    <tr>\n",
       "      <th>2</th>\n",
       "      <td>2019-09-05</td>\n",
       "      <td>35.47</td>\n",
       "      <td>212.1062</td>\n",
       "      <td>16.72</td>\n",
       "    </tr>\n",
       "    <tr>\n",
       "      <th>3</th>\n",
       "      <td>2019-09-09</td>\n",
       "      <td>35.41</td>\n",
       "      <td>222.6949</td>\n",
       "      <td>16.75</td>\n",
       "    </tr>\n",
       "    <tr>\n",
       "      <th>4</th>\n",
       "      <td>2019-09-10</td>\n",
       "      <td>35.16</td>\n",
       "      <td>218.6702</td>\n",
       "      <td>16.77</td>\n",
       "    </tr>\n",
       "    <tr>\n",
       "      <th>...</th>\n",
       "      <td>...</td>\n",
       "      <td>...</td>\n",
       "      <td>...</td>\n",
       "      <td>...</td>\n",
       "    </tr>\n",
       "    <tr>\n",
       "      <th>1084</th>\n",
       "      <td>2024-08-26</td>\n",
       "      <td>77.20</td>\n",
       "      <td>435.9759</td>\n",
       "      <td>20.39</td>\n",
       "    </tr>\n",
       "    <tr>\n",
       "      <th>1085</th>\n",
       "      <td>2024-08-27</td>\n",
       "      <td>76.69</td>\n",
       "      <td>434.1793</td>\n",
       "      <td>20.40</td>\n",
       "    </tr>\n",
       "    <tr>\n",
       "      <th>1086</th>\n",
       "      <td>2024-08-28</td>\n",
       "      <td>76.83</td>\n",
       "      <td>436.5764</td>\n",
       "      <td>20.33</td>\n",
       "    </tr>\n",
       "    <tr>\n",
       "      <th>1087</th>\n",
       "      <td>2024-08-29</td>\n",
       "      <td>76.90</td>\n",
       "      <td>437.2779</td>\n",
       "      <td>20.33</td>\n",
       "    </tr>\n",
       "    <tr>\n",
       "      <th>1088</th>\n",
       "      <td>2024-08-30</td>\n",
       "      <td>77.09</td>\n",
       "      <td>437.8615</td>\n",
       "      <td>20.53</td>\n",
       "    </tr>\n",
       "  </tbody>\n",
       "</table>\n",
       "<p>1089 rows × 4 columns</p>\n",
       "</div>"
      ],
      "text/plain": [
       "           Date  LU0129459060  LU0557290854  US00203H4956\n",
       "0    2019-08-30         35.05      218.0506         16.42\n",
       "1    2019-09-04         34.97      214.5538         16.46\n",
       "2    2019-09-05         35.47      212.1062         16.72\n",
       "3    2019-09-09         35.41      222.6949         16.75\n",
       "4    2019-09-10         35.16      218.6702         16.77\n",
       "...         ...           ...           ...           ...\n",
       "1084 2024-08-26         77.20      435.9759         20.39\n",
       "1085 2024-08-27         76.69      434.1793         20.40\n",
       "1086 2024-08-28         76.83      436.5764         20.33\n",
       "1087 2024-08-29         76.90      437.2779         20.33\n",
       "1088 2024-08-30         77.09      437.8615         20.53\n",
       "\n",
       "[1089 rows x 4 columns]"
      ]
     },
     "execution_count": 12,
     "metadata": {},
     "output_type": "execute_result"
    }
   ],
   "source": [
    "funds_vl = pd.merge(pd.merge(jpm_vl.df, schroder_vl.df, on=\"Date\", how=\"inner\"), aqr_vl.df, on=\"Date\", how=\"inner\")\n",
    "funds_vl"
   ]
  }
 ],
 "metadata": {
  "kernelspec": {
   "display_name": "base",
   "language": "python",
   "name": "python3"
  },
  "language_info": {
   "codemirror_mode": {
    "name": "ipython",
    "version": 3
   },
   "file_extension": ".py",
   "mimetype": "text/x-python",
   "name": "python",
   "nbconvert_exporter": "python",
   "pygments_lexer": "ipython3",
   "version": "3.9.13"
  }
 },
 "nbformat": 4,
 "nbformat_minor": 2
}
